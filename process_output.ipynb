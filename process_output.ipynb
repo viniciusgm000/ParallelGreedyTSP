{
 "cells": [
  {
   "cell_type": "code",
   "execution_count": 1,
   "id": "0d963728-799e-491c-acaa-ffd93d78267f",
   "metadata": {
    "tags": []
   },
   "outputs": [],
   "source": [
    "import glob"
   ]
  },
  {
   "cell_type": "code",
   "execution_count": 6,
   "id": "8ef519c5-08a0-45f2-a32e-3b910acdbb14",
   "metadata": {
    "tags": []
   },
   "outputs": [],
   "source": [
    "OUTPUT_DIR=\"output\"\n",
    "OUTPUT_TIME=\"time\"\n",
    "\n",
    "EXECUTIONS=[\"50\"]\n",
    "CITIES=[\"13\", \"14\", \"15\"]\n",
    "THREADS=[\"1\", \"2\", \"3\", \"6\", \"9\", \"12\"]\n",
    "ITERATIONS=10"
   ]
  },
  {
   "cell_type": "code",
   "execution_count": 7,
   "id": "1c79593f-cf7c-4b2a-9454-f98c90efae6d",
   "metadata": {
    "tags": []
   },
   "outputs": [
    {
     "name": "stdout",
     "output_type": "stream",
     "text": [
      "time/seq_13_cities_50_executions_time.out\n",
      "time/seq_14_cities_50_executions_time.out\n",
      "time/seq_15_cities_50_executions_time.out\n"
     ]
    }
   ],
   "source": [
    "for exec in list(EXECUTIONS):\n",
    "    for city in list(CITIES):\n",
    "        file=OUTPUT_TIME + \"/seq_\" + city + \"_cities_\" + exec + \"_executions_time.out\"\n",
    "        print(file)"
   ]
  },
  {
   "cell_type": "code",
   "execution_count": null,
   "id": "b1bdf772-7cd3-4553-b826-b6c02e5f5f64",
   "metadata": {},
   "outputs": [],
   "source": []
  }
 ],
 "metadata": {
  "kernelspec": {
   "display_name": "Python 3 (ipykernel)",
   "language": "python",
   "name": "python3"
  },
  "language_info": {
   "codemirror_mode": {
    "name": "ipython",
    "version": 3
   },
   "file_extension": ".py",
   "mimetype": "text/x-python",
   "name": "python",
   "nbconvert_exporter": "python",
   "pygments_lexer": "ipython3",
   "version": "3.11.2"
  }
 },
 "nbformat": 4,
 "nbformat_minor": 5
}
